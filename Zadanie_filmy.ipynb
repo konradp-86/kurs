{
 "cells": [
  {
   "cell_type": "markdown",
   "id": "9a98ca09-f667-4081-a003-8b3451f537a4",
   "metadata": {},
   "source": [
    "# Zadanie: Baza Filmów"
   ]
  },
  {
   "cell_type": "markdown",
   "id": "a486bf35-b88d-4716-8ccd-b01202b77bcd",
   "metadata": {},
   "source": [
    "## Wczytywanie Danych"
   ]
  },
  {
   "cell_type": "code",
   "execution_count": 44,
   "id": "7c29638a-128f-463a-940d-e4668ac325f0",
   "metadata": {},
   "outputs": [],
   "source": [
    "import pandas as pd\n",
    "\n",
    "movies_url = 'https://raw.githubusercontent.com/konradp-86/kurs/main/tmdb_movies.csv'\n",
    "genres_url = 'https://raw.githubusercontent.com/konradp-86/kurs/main/tmdb_genres.csv'\n",
    "\n",
    "movies = pd.read_csv(movies_url)\n",
    "genres = pd.read_csv(genres_url)\n"
   ]
  },
  {
   "cell_type": "code",
   "execution_count": 45,
   "id": "2db4a7b5-9858-4a30-a4de-49baa9f379b2",
   "metadata": {},
   "outputs": [
    {
     "data": {
      "text/html": [
       "<style type=\"text/css\">\n",
       "</style>\n",
       "<table id=\"T_a6958\">\n",
       "  <thead>\n",
       "    <tr>\n",
       "      <th class=\"blank level0\" >&nbsp;</th>\n",
       "      <th id=\"T_a6958_level0_col0\" class=\"col_heading level0 col0\" >Unnamed: 0</th>\n",
       "      <th id=\"T_a6958_level0_col1\" class=\"col_heading level0 col1\" >budget</th>\n",
       "      <th id=\"T_a6958_level0_col2\" class=\"col_heading level0 col2\" >homepage</th>\n",
       "      <th id=\"T_a6958_level0_col3\" class=\"col_heading level0 col3\" >id</th>\n",
       "      <th id=\"T_a6958_level0_col4\" class=\"col_heading level0 col4\" >original_language</th>\n",
       "      <th id=\"T_a6958_level0_col5\" class=\"col_heading level0 col5\" >original_title</th>\n",
       "      <th id=\"T_a6958_level0_col6\" class=\"col_heading level0 col6\" >popularity</th>\n",
       "      <th id=\"T_a6958_level0_col7\" class=\"col_heading level0 col7\" >release_date</th>\n",
       "      <th id=\"T_a6958_level0_col8\" class=\"col_heading level0 col8\" >revenue</th>\n",
       "      <th id=\"T_a6958_level0_col9\" class=\"col_heading level0 col9\" >runtime</th>\n",
       "      <th id=\"T_a6958_level0_col10\" class=\"col_heading level0 col10\" >status</th>\n",
       "      <th id=\"T_a6958_level0_col11\" class=\"col_heading level0 col11\" >tagline</th>\n",
       "      <th id=\"T_a6958_level0_col12\" class=\"col_heading level0 col12\" >title</th>\n",
       "      <th id=\"T_a6958_level0_col13\" class=\"col_heading level0 col13\" >vote_average</th>\n",
       "      <th id=\"T_a6958_level0_col14\" class=\"col_heading level0 col14\" >vote_count</th>\n",
       "      <th id=\"T_a6958_level0_col15\" class=\"col_heading level0 col15\" >genre_id</th>\n",
       "    </tr>\n",
       "  </thead>\n",
       "  <tbody>\n",
       "    <tr>\n",
       "      <th id=\"T_a6958_level0_row0\" class=\"row_heading level0 row0\" >0</th>\n",
       "      <td id=\"T_a6958_row0_col0\" class=\"data row0 col0\" >0</td>\n",
       "      <td id=\"T_a6958_row0_col1\" class=\"data row0 col1\" >237000000</td>\n",
       "      <td id=\"T_a6958_row0_col2\" class=\"data row0 col2\" >http://www.avatarmovie.com/</td>\n",
       "      <td id=\"T_a6958_row0_col3\" class=\"data row0 col3\" >19995</td>\n",
       "      <td id=\"T_a6958_row0_col4\" class=\"data row0 col4\" >en</td>\n",
       "      <td id=\"T_a6958_row0_col5\" class=\"data row0 col5\" >Avatar</td>\n",
       "      <td id=\"T_a6958_row0_col6\" class=\"data row0 col6\" >150.437577</td>\n",
       "      <td id=\"T_a6958_row0_col7\" class=\"data row0 col7\" >2009-12-10</td>\n",
       "      <td id=\"T_a6958_row0_col8\" class=\"data row0 col8\" >2787965087</td>\n",
       "      <td id=\"T_a6958_row0_col9\" class=\"data row0 col9\" >162.000000</td>\n",
       "      <td id=\"T_a6958_row0_col10\" class=\"data row0 col10\" >Released</td>\n",
       "      <td id=\"T_a6958_row0_col11\" class=\"data row0 col11\" >Enter the World of Pandora.</td>\n",
       "      <td id=\"T_a6958_row0_col12\" class=\"data row0 col12\" >Avatar</td>\n",
       "      <td id=\"T_a6958_row0_col13\" class=\"data row0 col13\" >7.200000</td>\n",
       "      <td id=\"T_a6958_row0_col14\" class=\"data row0 col14\" >11800</td>\n",
       "      <td id=\"T_a6958_row0_col15\" class=\"data row0 col15\" >28.000000</td>\n",
       "    </tr>\n",
       "    <tr>\n",
       "      <th id=\"T_a6958_level0_row1\" class=\"row_heading level0 row1\" >1</th>\n",
       "      <td id=\"T_a6958_row1_col0\" class=\"data row1 col0\" >1</td>\n",
       "      <td id=\"T_a6958_row1_col1\" class=\"data row1 col1\" >300000000</td>\n",
       "      <td id=\"T_a6958_row1_col2\" class=\"data row1 col2\" >http://disney.go.com/disneypictures/pirates/</td>\n",
       "      <td id=\"T_a6958_row1_col3\" class=\"data row1 col3\" >285</td>\n",
       "      <td id=\"T_a6958_row1_col4\" class=\"data row1 col4\" >en</td>\n",
       "      <td id=\"T_a6958_row1_col5\" class=\"data row1 col5\" >Pirates of the Caribbean: At World's End</td>\n",
       "      <td id=\"T_a6958_row1_col6\" class=\"data row1 col6\" >139.082615</td>\n",
       "      <td id=\"T_a6958_row1_col7\" class=\"data row1 col7\" >2007-05-19</td>\n",
       "      <td id=\"T_a6958_row1_col8\" class=\"data row1 col8\" >961000000</td>\n",
       "      <td id=\"T_a6958_row1_col9\" class=\"data row1 col9\" >169.000000</td>\n",
       "      <td id=\"T_a6958_row1_col10\" class=\"data row1 col10\" >Released</td>\n",
       "      <td id=\"T_a6958_row1_col11\" class=\"data row1 col11\" >At the end of the world, the adventure begins.</td>\n",
       "      <td id=\"T_a6958_row1_col12\" class=\"data row1 col12\" >Pirates of the Caribbean: At World's End</td>\n",
       "      <td id=\"T_a6958_row1_col13\" class=\"data row1 col13\" >6.900000</td>\n",
       "      <td id=\"T_a6958_row1_col14\" class=\"data row1 col14\" >4500</td>\n",
       "      <td id=\"T_a6958_row1_col15\" class=\"data row1 col15\" >12.000000</td>\n",
       "    </tr>\n",
       "    <tr>\n",
       "      <th id=\"T_a6958_level0_row2\" class=\"row_heading level0 row2\" >2</th>\n",
       "      <td id=\"T_a6958_row2_col0\" class=\"data row2 col0\" >2</td>\n",
       "      <td id=\"T_a6958_row2_col1\" class=\"data row2 col1\" >245000000</td>\n",
       "      <td id=\"T_a6958_row2_col2\" class=\"data row2 col2\" >http://www.sonypictures.com/movies/spectre/</td>\n",
       "      <td id=\"T_a6958_row2_col3\" class=\"data row2 col3\" >206647</td>\n",
       "      <td id=\"T_a6958_row2_col4\" class=\"data row2 col4\" >en</td>\n",
       "      <td id=\"T_a6958_row2_col5\" class=\"data row2 col5\" >Spectre</td>\n",
       "      <td id=\"T_a6958_row2_col6\" class=\"data row2 col6\" >107.376788</td>\n",
       "      <td id=\"T_a6958_row2_col7\" class=\"data row2 col7\" >2015-10-26</td>\n",
       "      <td id=\"T_a6958_row2_col8\" class=\"data row2 col8\" >880674609</td>\n",
       "      <td id=\"T_a6958_row2_col9\" class=\"data row2 col9\" >148.000000</td>\n",
       "      <td id=\"T_a6958_row2_col10\" class=\"data row2 col10\" >Released</td>\n",
       "      <td id=\"T_a6958_row2_col11\" class=\"data row2 col11\" >A Plan No One Escapes</td>\n",
       "      <td id=\"T_a6958_row2_col12\" class=\"data row2 col12\" >Spectre</td>\n",
       "      <td id=\"T_a6958_row2_col13\" class=\"data row2 col13\" >6.300000</td>\n",
       "      <td id=\"T_a6958_row2_col14\" class=\"data row2 col14\" >4466</td>\n",
       "      <td id=\"T_a6958_row2_col15\" class=\"data row2 col15\" >28.000000</td>\n",
       "    </tr>\n",
       "    <tr>\n",
       "      <th id=\"T_a6958_level0_row3\" class=\"row_heading level0 row3\" >3</th>\n",
       "      <td id=\"T_a6958_row3_col0\" class=\"data row3 col0\" >3</td>\n",
       "      <td id=\"T_a6958_row3_col1\" class=\"data row3 col1\" >250000000</td>\n",
       "      <td id=\"T_a6958_row3_col2\" class=\"data row3 col2\" >http://www.thedarkknightrises.com/</td>\n",
       "      <td id=\"T_a6958_row3_col3\" class=\"data row3 col3\" >49026</td>\n",
       "      <td id=\"T_a6958_row3_col4\" class=\"data row3 col4\" >en</td>\n",
       "      <td id=\"T_a6958_row3_col5\" class=\"data row3 col5\" >The Dark Knight Rises</td>\n",
       "      <td id=\"T_a6958_row3_col6\" class=\"data row3 col6\" >112.312950</td>\n",
       "      <td id=\"T_a6958_row3_col7\" class=\"data row3 col7\" >2012-07-16</td>\n",
       "      <td id=\"T_a6958_row3_col8\" class=\"data row3 col8\" >1084939099</td>\n",
       "      <td id=\"T_a6958_row3_col9\" class=\"data row3 col9\" >165.000000</td>\n",
       "      <td id=\"T_a6958_row3_col10\" class=\"data row3 col10\" >Released</td>\n",
       "      <td id=\"T_a6958_row3_col11\" class=\"data row3 col11\" >The Legend Ends</td>\n",
       "      <td id=\"T_a6958_row3_col12\" class=\"data row3 col12\" >The Dark Knight Rises</td>\n",
       "      <td id=\"T_a6958_row3_col13\" class=\"data row3 col13\" >7.600000</td>\n",
       "      <td id=\"T_a6958_row3_col14\" class=\"data row3 col14\" >9106</td>\n",
       "      <td id=\"T_a6958_row3_col15\" class=\"data row3 col15\" >28.000000</td>\n",
       "    </tr>\n",
       "    <tr>\n",
       "      <th id=\"T_a6958_level0_row4\" class=\"row_heading level0 row4\" >4</th>\n",
       "      <td id=\"T_a6958_row4_col0\" class=\"data row4 col0\" >4</td>\n",
       "      <td id=\"T_a6958_row4_col1\" class=\"data row4 col1\" >260000000</td>\n",
       "      <td id=\"T_a6958_row4_col2\" class=\"data row4 col2\" >http://movies.disney.com/john-carter</td>\n",
       "      <td id=\"T_a6958_row4_col3\" class=\"data row4 col3\" >49529</td>\n",
       "      <td id=\"T_a6958_row4_col4\" class=\"data row4 col4\" >en</td>\n",
       "      <td id=\"T_a6958_row4_col5\" class=\"data row4 col5\" >John Carter</td>\n",
       "      <td id=\"T_a6958_row4_col6\" class=\"data row4 col6\" >43.926995</td>\n",
       "      <td id=\"T_a6958_row4_col7\" class=\"data row4 col7\" >2012-03-07</td>\n",
       "      <td id=\"T_a6958_row4_col8\" class=\"data row4 col8\" >284139100</td>\n",
       "      <td id=\"T_a6958_row4_col9\" class=\"data row4 col9\" >132.000000</td>\n",
       "      <td id=\"T_a6958_row4_col10\" class=\"data row4 col10\" >Released</td>\n",
       "      <td id=\"T_a6958_row4_col11\" class=\"data row4 col11\" >Lost in our world, found in another.</td>\n",
       "      <td id=\"T_a6958_row4_col12\" class=\"data row4 col12\" >John Carter</td>\n",
       "      <td id=\"T_a6958_row4_col13\" class=\"data row4 col13\" >6.100000</td>\n",
       "      <td id=\"T_a6958_row4_col14\" class=\"data row4 col14\" >2124</td>\n",
       "      <td id=\"T_a6958_row4_col15\" class=\"data row4 col15\" >28.000000</td>\n",
       "    </tr>\n",
       "    <tr>\n",
       "      <th id=\"T_a6958_level0_row5\" class=\"row_heading level0 row5\" >5</th>\n",
       "      <td id=\"T_a6958_row5_col0\" class=\"data row5 col0\" >5</td>\n",
       "      <td id=\"T_a6958_row5_col1\" class=\"data row5 col1\" >258000000</td>\n",
       "      <td id=\"T_a6958_row5_col2\" class=\"data row5 col2\" >http://www.sonypictures.com/movies/spider-man3/</td>\n",
       "      <td id=\"T_a6958_row5_col3\" class=\"data row5 col3\" >559</td>\n",
       "      <td id=\"T_a6958_row5_col4\" class=\"data row5 col4\" >en</td>\n",
       "      <td id=\"T_a6958_row5_col5\" class=\"data row5 col5\" >Spider-Man 3</td>\n",
       "      <td id=\"T_a6958_row5_col6\" class=\"data row5 col6\" >115.699814</td>\n",
       "      <td id=\"T_a6958_row5_col7\" class=\"data row5 col7\" >2007-05-01</td>\n",
       "      <td id=\"T_a6958_row5_col8\" class=\"data row5 col8\" >890871626</td>\n",
       "      <td id=\"T_a6958_row5_col9\" class=\"data row5 col9\" >139.000000</td>\n",
       "      <td id=\"T_a6958_row5_col10\" class=\"data row5 col10\" >Released</td>\n",
       "      <td id=\"T_a6958_row5_col11\" class=\"data row5 col11\" >The battle within.</td>\n",
       "      <td id=\"T_a6958_row5_col12\" class=\"data row5 col12\" >Spider-Man 3</td>\n",
       "      <td id=\"T_a6958_row5_col13\" class=\"data row5 col13\" >5.900000</td>\n",
       "      <td id=\"T_a6958_row5_col14\" class=\"data row5 col14\" >3576</td>\n",
       "      <td id=\"T_a6958_row5_col15\" class=\"data row5 col15\" >14.000000</td>\n",
       "    </tr>\n",
       "    <tr>\n",
       "      <th id=\"T_a6958_level0_row6\" class=\"row_heading level0 row6\" >6</th>\n",
       "      <td id=\"T_a6958_row6_col0\" class=\"data row6 col0\" >6</td>\n",
       "      <td id=\"T_a6958_row6_col1\" class=\"data row6 col1\" >260000000</td>\n",
       "      <td id=\"T_a6958_row6_col2\" class=\"data row6 col2\" >http://disney.go.com/disneypictures/tangled/</td>\n",
       "      <td id=\"T_a6958_row6_col3\" class=\"data row6 col3\" >38757</td>\n",
       "      <td id=\"T_a6958_row6_col4\" class=\"data row6 col4\" >en</td>\n",
       "      <td id=\"T_a6958_row6_col5\" class=\"data row6 col5\" >Tangled</td>\n",
       "      <td id=\"T_a6958_row6_col6\" class=\"data row6 col6\" >48.681969</td>\n",
       "      <td id=\"T_a6958_row6_col7\" class=\"data row6 col7\" >2010-11-24</td>\n",
       "      <td id=\"T_a6958_row6_col8\" class=\"data row6 col8\" >591794936</td>\n",
       "      <td id=\"T_a6958_row6_col9\" class=\"data row6 col9\" >100.000000</td>\n",
       "      <td id=\"T_a6958_row6_col10\" class=\"data row6 col10\" >Released</td>\n",
       "      <td id=\"T_a6958_row6_col11\" class=\"data row6 col11\" >They're taking adventure to new lengths.</td>\n",
       "      <td id=\"T_a6958_row6_col12\" class=\"data row6 col12\" >Tangled</td>\n",
       "      <td id=\"T_a6958_row6_col13\" class=\"data row6 col13\" >7.400000</td>\n",
       "      <td id=\"T_a6958_row6_col14\" class=\"data row6 col14\" >3330</td>\n",
       "      <td id=\"T_a6958_row6_col15\" class=\"data row6 col15\" >16.000000</td>\n",
       "    </tr>\n",
       "    <tr>\n",
       "      <th id=\"T_a6958_level0_row7\" class=\"row_heading level0 row7\" >7</th>\n",
       "      <td id=\"T_a6958_row7_col0\" class=\"data row7 col0\" >7</td>\n",
       "      <td id=\"T_a6958_row7_col1\" class=\"data row7 col1\" >280000000</td>\n",
       "      <td id=\"T_a6958_row7_col2\" class=\"data row7 col2\" >http://marvel.com/movies/movie/193/avengers_age_of_ultron</td>\n",
       "      <td id=\"T_a6958_row7_col3\" class=\"data row7 col3\" >99861</td>\n",
       "      <td id=\"T_a6958_row7_col4\" class=\"data row7 col4\" >en</td>\n",
       "      <td id=\"T_a6958_row7_col5\" class=\"data row7 col5\" >Avengers: Age of Ultron</td>\n",
       "      <td id=\"T_a6958_row7_col6\" class=\"data row7 col6\" >134.279229</td>\n",
       "      <td id=\"T_a6958_row7_col7\" class=\"data row7 col7\" >2015-04-22</td>\n",
       "      <td id=\"T_a6958_row7_col8\" class=\"data row7 col8\" >1405403694</td>\n",
       "      <td id=\"T_a6958_row7_col9\" class=\"data row7 col9\" >141.000000</td>\n",
       "      <td id=\"T_a6958_row7_col10\" class=\"data row7 col10\" >Released</td>\n",
       "      <td id=\"T_a6958_row7_col11\" class=\"data row7 col11\" >A New Age Has Come.</td>\n",
       "      <td id=\"T_a6958_row7_col12\" class=\"data row7 col12\" >Avengers: Age of Ultron</td>\n",
       "      <td id=\"T_a6958_row7_col13\" class=\"data row7 col13\" >7.300000</td>\n",
       "      <td id=\"T_a6958_row7_col14\" class=\"data row7 col14\" >6767</td>\n",
       "      <td id=\"T_a6958_row7_col15\" class=\"data row7 col15\" >28.000000</td>\n",
       "    </tr>\n",
       "    <tr>\n",
       "      <th id=\"T_a6958_level0_row8\" class=\"row_heading level0 row8\" >8</th>\n",
       "      <td id=\"T_a6958_row8_col0\" class=\"data row8 col0\" >8</td>\n",
       "      <td id=\"T_a6958_row8_col1\" class=\"data row8 col1\" >250000000</td>\n",
       "      <td id=\"T_a6958_row8_col2\" class=\"data row8 col2\" >http://harrypotter.warnerbros.com/harrypotterandthehalf-bloodprince/dvd/index.html</td>\n",
       "      <td id=\"T_a6958_row8_col3\" class=\"data row8 col3\" >767</td>\n",
       "      <td id=\"T_a6958_row8_col4\" class=\"data row8 col4\" >en</td>\n",
       "      <td id=\"T_a6958_row8_col5\" class=\"data row8 col5\" >Harry Potter and the Half-Blood Prince</td>\n",
       "      <td id=\"T_a6958_row8_col6\" class=\"data row8 col6\" >98.885637</td>\n",
       "      <td id=\"T_a6958_row8_col7\" class=\"data row8 col7\" >2009-07-07</td>\n",
       "      <td id=\"T_a6958_row8_col8\" class=\"data row8 col8\" >933959197</td>\n",
       "      <td id=\"T_a6958_row8_col9\" class=\"data row8 col9\" >153.000000</td>\n",
       "      <td id=\"T_a6958_row8_col10\" class=\"data row8 col10\" >Released</td>\n",
       "      <td id=\"T_a6958_row8_col11\" class=\"data row8 col11\" >Dark Secrets Revealed</td>\n",
       "      <td id=\"T_a6958_row8_col12\" class=\"data row8 col12\" >Harry Potter and the Half-Blood Prince</td>\n",
       "      <td id=\"T_a6958_row8_col13\" class=\"data row8 col13\" >7.400000</td>\n",
       "      <td id=\"T_a6958_row8_col14\" class=\"data row8 col14\" >5293</td>\n",
       "      <td id=\"T_a6958_row8_col15\" class=\"data row8 col15\" >12.000000</td>\n",
       "    </tr>\n",
       "    <tr>\n",
       "      <th id=\"T_a6958_level0_row9\" class=\"row_heading level0 row9\" >9</th>\n",
       "      <td id=\"T_a6958_row9_col0\" class=\"data row9 col0\" >9</td>\n",
       "      <td id=\"T_a6958_row9_col1\" class=\"data row9 col1\" >250000000</td>\n",
       "      <td id=\"T_a6958_row9_col2\" class=\"data row9 col2\" >http://www.batmanvsupermandawnofjustice.com/</td>\n",
       "      <td id=\"T_a6958_row9_col3\" class=\"data row9 col3\" >209112</td>\n",
       "      <td id=\"T_a6958_row9_col4\" class=\"data row9 col4\" >en</td>\n",
       "      <td id=\"T_a6958_row9_col5\" class=\"data row9 col5\" >Batman v Superman: Dawn of Justice</td>\n",
       "      <td id=\"T_a6958_row9_col6\" class=\"data row9 col6\" >155.790452</td>\n",
       "      <td id=\"T_a6958_row9_col7\" class=\"data row9 col7\" >2016-03-23</td>\n",
       "      <td id=\"T_a6958_row9_col8\" class=\"data row9 col8\" >873260194</td>\n",
       "      <td id=\"T_a6958_row9_col9\" class=\"data row9 col9\" >151.000000</td>\n",
       "      <td id=\"T_a6958_row9_col10\" class=\"data row9 col10\" >Released</td>\n",
       "      <td id=\"T_a6958_row9_col11\" class=\"data row9 col11\" >Justice or revenge</td>\n",
       "      <td id=\"T_a6958_row9_col12\" class=\"data row9 col12\" >Batman v Superman: Dawn of Justice</td>\n",
       "      <td id=\"T_a6958_row9_col13\" class=\"data row9 col13\" >5.700000</td>\n",
       "      <td id=\"T_a6958_row9_col14\" class=\"data row9 col14\" >7004</td>\n",
       "      <td id=\"T_a6958_row9_col15\" class=\"data row9 col15\" >28.000000</td>\n",
       "    </tr>\n",
       "  </tbody>\n",
       "</table>\n"
      ],
      "text/plain": [
       "<pandas.io.formats.style.Styler at 0x25c73180500>"
      ]
     },
     "execution_count": 45,
     "metadata": {},
     "output_type": "execute_result"
    }
   ],
   "source": [
    "movies_bez_overview = movies.drop('overview', axis=1)\n",
    "movies_styled = movies_bez_overview.head(10).style.set_table_styles().set_properties()\n",
    "movies_styled"
   ]
  },
  {
   "cell_type": "markdown",
   "id": "c1cdd482-9a80-4f4a-8b4a-51a30f31b1ba",
   "metadata": {},
   "source": [
    "## Lista 10 najlepiej ocenianych "
   ]
  },
  {
   "cell_type": "code",
   "execution_count": 46,
   "id": "2af64473-42a5-4128-88e8-2648369b1af2",
   "metadata": {},
   "outputs": [
    {
     "name": "stdout",
     "output_type": "stream",
     "text": [
      "                            title  vote_average  vote_count\n",
      "1881     The Shawshank Redemption           8.5        8205\n",
      "3337                The Godfather           8.4        5893\n",
      "662                    Fight Club           8.3        9413\n",
      "2731       The Godfather: Part II           8.3        3338\n",
      "3232                 Pulp Fiction           8.3        8428\n",
      "2294                Spirited Away           8.3        3840\n",
      "1818             Schindler's List           8.3        4329\n",
      "3865                     Whiplash           8.3        4254\n",
      "1663  Once Upon a Time in America           8.2        1069\n",
      "1847                   GoodFellas           8.2        3128\n"
     ]
    }
   ],
   "source": [
    "próg_głosów = movies['vote_count'].quantile(0.75)\n",
    "\n",
    "najlepsze_filmy = movies[movies['vote_count'] > próg_głosów].sort_values(by='vote_average', ascending=False)\n",
    "\n",
    "top_10_filmów = najlepsze_filmy[['title', 'vote_average', 'vote_count']].head(10)\n",
    "print(top_10_filmów)\n"
   ]
  },
  {
   "cell_type": "code",
   "execution_count": null,
   "id": "85d9a4e5-dbcc-4b7d-9d3e-70a373eb8389",
   "metadata": {},
   "outputs": [],
   "source": []
  },
  {
   "cell_type": "markdown",
   "id": "918c1dd3-0505-4e9b-8ef9-230327d448de",
   "metadata": {},
   "source": [
    "## Średni przychód i budżet w latach 2010 - 2016"
   ]
  },
  {
   "cell_type": "code",
   "execution_count": 50,
   "id": "e8f9d541-9daa-4f8c-959b-9dc521378b37",
   "metadata": {},
   "outputs": [
    {
     "name": "stdout",
     "output_type": "stream",
     "text": [
      "      rok         revenue         budget\n",
      "0  2010.0   90,438,110.08  34,495,410.94\n",
      "1  2011.0   92,004,130.76  34,772,320.34\n",
      "2  2012.0  116,065,914.64  34,922,031.99\n",
      "3  2013.0  101,348,455.82  35,523,293.65\n",
      "4  2014.0  101,346,599.11  30,959,887.86\n",
      "5  2015.0  105,439,926.95  31,132,163.74\n",
      "6  2016.0  139,049,586.04  45,703,269.23\n"
     ]
    }
   ],
   "source": [
    "import pandas as pd\n",
    "\n",
    "movies['rok'] = pd.to_datetime(movies['release_date']).dt.year\n",
    "\n",
    "filmy_2010_2016 = movies[(movies['rok'] >= 2010) & (movies['rok'] <= 2016)]\n",
    "\n",
    "średnie_dane = filmy_2010_2016.groupby('rok')[['revenue', 'budget']].mean().reset_index()\n",
    "\n",
    "średnie_dane['revenue'] = średnie_dane['revenue'].apply(lambda x: f\"{x:,.2f}\")\n",
    "średnie_dane['budget'] = średnie_dane['budget'].apply(lambda x: f\"{x:,.2f}\")\n",
    "\n",
    "print(średnie_dane)\n"
   ]
  },
  {
   "cell_type": "code",
   "execution_count": 51,
   "id": "9b96fe8a-1773-4ab2-9056-483270e1af5c",
   "metadata": {},
   "outputs": [
    {
     "name": "stderr",
     "output_type": "stream",
     "text": [
      "Exception ignored in: <function ZipFile.__del__ at 0x0000025C595614E0>\n",
      "Traceback (most recent call last):\n",
      "  File \"C:\\Users\\Gosia\\AppData\\Local\\Programs\\Python\\Python312\\Lib\\zipfile\\__init__.py\", line 1940, in __del__\n",
      "    self.close()\n",
      "  File \"C:\\Users\\Gosia\\AppData\\Local\\Programs\\Python\\Python312\\Lib\\zipfile\\__init__.py\", line 1957, in close\n",
      "    self.fp.seek(self.start_dir)\n",
      "ValueError: seek of closed file\n"
     ]
    },
    {
     "data": {
      "image/png": "[encoded data removed]",
      "text/plain": [
       "<Figure size 1000x600 with 2 Axes>"
      ]
     },
     "metadata": {},
     "output_type": "display_data"
    }
   ],
   "source": [
    "import matplotlib.pyplot as plt\n",
    "\n",
    "lata = [2010, 2011, 2012, 2013, 2014, 2015, 2016]\n",
    "revenue = [90438110.08, 92004130.76, 116065914.64, 101348455.82, 101346599.11, 105439926.95, 139049586.04]\n",
    "budget = [34495410.94, 34772320.34, 34922031.99, 35523293.65, 30959887.86, 31132163.74, 45703269.23]\n",
    "\n",
    "revenue_mil = [x / 1e7 for x in revenue] \n",
    "budget_mil = [x / 1e7 for x in budget]   \n",
    "\n",
    "fig, ax1 = plt.subplots(figsize=(10, 6))\n",
    "\n",
    "ax1.bar(lata, revenue_mil, color='skyblue', label='Średni przychód (x10 mln $)')\n",
    "ax1.set_ylabel('Średni przychód (x10 mln $)', color='blue') \n",
    "ax1.tick_params(axis='y', labelcolor='blue')\n",
    "ax1.set_ylim(0, 14) \n",
    "\n",
    "ax2 = ax1.twinx()\n",
    "ax2.plot(lata, budget_mil, color='red', marker='o', label='Średni budżet (x10 mln $)')\n",
    "ax2.set_ylabel('Średni budżet (x10 mln $)', color='red')\n",
    "ax2.tick_params(axis='y', labelcolor='red')\n",
    "ax2.set_ylim(0, 10) \n",
    "\n",
    "plt.title('Średni przychód i budżet filmu w latach 2010-2016 (x10 mln $)')\n",
    "fig.legend(loc='upper right', bbox_to_anchor=(1, 1))\n",
    "\n",
    "plt.tight_layout()\n",
    "plt.show()\n"
   ]
  },
  {
   "cell_type": "markdown",
   "id": "910b7373-a7b2-4467-a25a-0404d7eb93cf",
   "metadata": {},
   "source": [
    "## Łączenie tabel na podstawie kolumny Gatunek"
   ]
  },
  {
   "cell_type": "code",
   "execution_count": 52,
   "id": "0ea95209-78a5-4291-956c-04959557ff66",
   "metadata": {},
   "outputs": [
    {
     "name": "stdout",
     "output_type": "stream",
     "text": [
      "                                      title  genre_id     genres\n",
      "0                                    Avatar      28.0     Action\n",
      "1  Pirates of the Caribbean: At World's End      12.0  Adventure\n",
      "2                                   Spectre      28.0     Action\n",
      "3                     The Dark Knight Rises      28.0     Action\n",
      "4                               John Carter      28.0     Action\n"
     ]
    }
   ],
   "source": [
    "filmy_gatunki = pd.merge(movies, genres, how='left', left_on='genre_id', right_on='Unnamed: 0')\n",
    "print(filmy_gatunki[['title', 'genre_id', 'genres']].head())"
   ]
  },
  {
   "cell_type": "markdown",
   "id": "29e86699-14c6-4cc1-893d-ab6f9b2acd26",
   "metadata": {},
   "source": [
    "## Najwięcej filmów z jednego gatunku"
   ]
  },
  {
   "cell_type": "code",
   "execution_count": 53,
   "id": "4982c104-1a05-4dad-b47f-9b15eeb94317",
   "metadata": {},
   "outputs": [
    {
     "name": "stdout",
     "output_type": "stream",
     "text": [
      "Najczęstszy gatunek filmów: Drama (1207 filmów)\n"
     ]
    }
   ],
   "source": [
    "liczba_filmów_w_gatunku = filmy_gatunki['genres'].value_counts()\n",
    "\n",
    "najczęstszy_gatunek = liczba_filmów_w_gatunku.idxmax()\n",
    "liczba_filmów = liczba_filmów_w_gatunku.max()\n",
    "\n",
    "print(f\"Najczęstszy gatunek filmów: {najczęstszy_gatunek} ({liczba_filmów} filmów)\")\n"
   ]
  },
  {
   "cell_type": "markdown",
   "id": "b730af7c-feac-419d-ae5d-84f7f7357efa",
   "metadata": {},
   "source": [
    "## Gatunek filmów z najdłuższym średnim czasem trwania"
   ]
  },
  {
   "cell_type": "code",
   "execution_count": 56,
   "id": "4ed8dfb4-d6ae-4311-9235-0b107d9d66b6",
   "metadata": {},
   "outputs": [
    {
     "name": "stdout",
     "output_type": "stream",
     "text": [
      "Gatunek z najdłuższym średnim czasem trwania: History (średnio 133.96 minut)\n"
     ]
    }
   ],
   "source": [
    "średni_czas_trwania = filmy_gatunki.groupby('genres')['runtime'].mean().sort_values(ascending=False)\n",
    "\n",
    "gatunek_najdłuższy = średni_czas_trwania.idxmax()\n",
    "średni_runtime = średni_czas_trwania.max()\n",
    "\n",
    "print(f\"Gatunek z najdłuższym średnim czasem trwania: {gatunek_najdłuższy} (średnio {średni_runtime:.2f} minut)\")\n"
   ]
  },
  {
   "cell_type": "markdown",
   "id": "a9ae84d2-5da0-4065-abff-e23136363e55",
   "metadata": {},
   "source": [
    "## Histogram czasu trwania filmów "
   ]
  },
  {
   "cell_type": "code",
   "execution_count": 61,
   "id": "a8b2e231-f724-4397-8ea1-9e5d7ba611a7",
   "metadata": {},
   "outputs": [
    {
     "data": {
      "image/png": "[encoded data removed]",
      "text/plain": [
       "<Figure size 1000x600 with 1 Axes>"
      ]
     },
     "metadata": {},
     "output_type": "display_data"
    }
   ],
   "source": [
    "filmy_najdłuższy_gatunek = filmy_gatunki[filmy_gatunki['genres'] == gatunek_najdłuższy]\n",
    "\n",
    "plt.figure(figsize=(10, 6))\n",
    "plt.hist(filmy_najdłuższy_gatunek['runtime'].dropna(), bins=20, color='skyblue', edgecolor='black', alpha=0.7)\n",
    "\n",
    "plt.title(f'Histogram czasu trwania filmów - Gatunek: {gatunek_najdłuższy}', fontsize=14)\n",
    "plt.xlabel('Czas trwania (minuty)', fontsize=12)\n",
    "plt.ylabel('Liczba filmów', fontsize=12)\n",
    "\n",
    "plt.grid(axis='y', linestyle='--', alpha=0.6)  \n",
    "plt.tight_layout()\n",
    "plt.show()\n",
    "\n"
   ]
  },
  {
   "cell_type": "code",
   "execution_count": null,
   "id": "60ad4aa2-861a-4d40-8e85-435dc79880ed",
   "metadata": {},
   "outputs": [],
   "source": []
  }
 ],
 "metadata": {
  "kernelspec": {
   "display_name": "Python 3 (ipykernel)",
   "language": "python",
   "name": "python3"
  },
  "language_info": {
   "codemirror_mode": {
    "name": "ipython",
    "version": 3
   },
   "file_extension": ".py",
   "mimetype": "text/x-python",
   "name": "python",
   "nbconvert_exporter": "python",
   "pygments_lexer": "ipython3",
   "version": "3.12.8"
  }
 },
 "nbformat": 4,
 "nbformat_minor": 5
}
