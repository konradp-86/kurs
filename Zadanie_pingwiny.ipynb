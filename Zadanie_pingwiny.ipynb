{
 "cells": [
  {
   "cell_type": "code",
   "execution_count": 1,
   "id": "1f13352f-9691-427c-b9bf-229228d707c3",
   "metadata": {},
   "outputs": [
    {
     "data": {
      "text/html": [
       "<div>\n",
       "<style scoped>\n",
       "    .dataframe tbody tr th:only-of-type {\n",
       "        vertical-align: middle;\n",
       "    }\n",
       "\n",
       "    .dataframe tbody tr th {\n",
       "        vertical-align: top;\n",
       "    }\n",
       "\n",
       "    .dataframe thead th {\n",
       "        text-align: right;\n",
       "    }\n",
       "</style>\n",
       "<table border=\"1\" class=\"dataframe\">\n",
       "  <thead>\n",
       "    <tr style=\"text-align: right;\">\n",
       "      <th></th>\n",
       "      <th>CulmenLength</th>\n",
       "      <th>CulmenDepth</th>\n",
       "      <th>FlipperLength</th>\n",
       "      <th>BodyMass</th>\n",
       "      <th>Species</th>\n",
       "    </tr>\n",
       "  </thead>\n",
       "  <tbody>\n",
       "    <tr>\n",
       "      <th>0</th>\n",
       "      <td>39.1</td>\n",
       "      <td>18.7</td>\n",
       "      <td>181.0</td>\n",
       "      <td>3750.0</td>\n",
       "      <td>0</td>\n",
       "    </tr>\n",
       "    <tr>\n",
       "      <th>1</th>\n",
       "      <td>39.5</td>\n",
       "      <td>17.4</td>\n",
       "      <td>186.0</td>\n",
       "      <td>3800.0</td>\n",
       "      <td>0</td>\n",
       "    </tr>\n",
       "    <tr>\n",
       "      <th>2</th>\n",
       "      <td>40.3</td>\n",
       "      <td>18.0</td>\n",
       "      <td>195.0</td>\n",
       "      <td>3250.0</td>\n",
       "      <td>0</td>\n",
       "    </tr>\n",
       "    <tr>\n",
       "      <th>3</th>\n",
       "      <td>NaN</td>\n",
       "      <td>NaN</td>\n",
       "      <td>NaN</td>\n",
       "      <td>NaN</td>\n",
       "      <td>0</td>\n",
       "    </tr>\n",
       "    <tr>\n",
       "      <th>4</th>\n",
       "      <td>36.7</td>\n",
       "      <td>19.3</td>\n",
       "      <td>193.0</td>\n",
       "      <td>3450.0</td>\n",
       "      <td>0</td>\n",
       "    </tr>\n",
       "    <tr>\n",
       "      <th>...</th>\n",
       "      <td>...</td>\n",
       "      <td>...</td>\n",
       "      <td>...</td>\n",
       "      <td>...</td>\n",
       "      <td>...</td>\n",
       "    </tr>\n",
       "    <tr>\n",
       "      <th>339</th>\n",
       "      <td>55.8</td>\n",
       "      <td>19.8</td>\n",
       "      <td>207.0</td>\n",
       "      <td>4000.0</td>\n",
       "      <td>2</td>\n",
       "    </tr>\n",
       "    <tr>\n",
       "      <th>340</th>\n",
       "      <td>43.5</td>\n",
       "      <td>18.1</td>\n",
       "      <td>202.0</td>\n",
       "      <td>3400.0</td>\n",
       "      <td>2</td>\n",
       "    </tr>\n",
       "    <tr>\n",
       "      <th>341</th>\n",
       "      <td>49.6</td>\n",
       "      <td>18.2</td>\n",
       "      <td>193.0</td>\n",
       "      <td>3775.0</td>\n",
       "      <td>2</td>\n",
       "    </tr>\n",
       "    <tr>\n",
       "      <th>342</th>\n",
       "      <td>50.8</td>\n",
       "      <td>19.0</td>\n",
       "      <td>210.0</td>\n",
       "      <td>4100.0</td>\n",
       "      <td>2</td>\n",
       "    </tr>\n",
       "    <tr>\n",
       "      <th>343</th>\n",
       "      <td>50.2</td>\n",
       "      <td>18.7</td>\n",
       "      <td>198.0</td>\n",
       "      <td>3775.0</td>\n",
       "      <td>2</td>\n",
       "    </tr>\n",
       "  </tbody>\n",
       "</table>\n",
       "<p>344 rows × 5 columns</p>\n",
       "</div>"
      ],
      "text/plain": [
       "     CulmenLength  CulmenDepth  FlipperLength  BodyMass  Species\n",
       "0            39.1         18.7          181.0    3750.0        0\n",
       "1            39.5         17.4          186.0    3800.0        0\n",
       "2            40.3         18.0          195.0    3250.0        0\n",
       "3             NaN          NaN            NaN       NaN        0\n",
       "4            36.7         19.3          193.0    3450.0        0\n",
       "..            ...          ...            ...       ...      ...\n",
       "339          55.8         19.8          207.0    4000.0        2\n",
       "340          43.5         18.1          202.0    3400.0        2\n",
       "341          49.6         18.2          193.0    3775.0        2\n",
       "342          50.8         19.0          210.0    4100.0        2\n",
       "343          50.2         18.7          198.0    3775.0        2\n",
       "\n",
       "[344 rows x 5 columns]"
      ]
     },
     "execution_count": 1,
     "metadata": {},
     "output_type": "execute_result"
    }
   ],
   "source": [
    "import pandas as pd\n",
    "import numpy as np\n",
    "import matplotlib.pyplot as plt\n",
    "import seaborn as sns\n",
    "from sklearn.model_selection import train_test_split\n",
    "from sklearn.metrics import classification_report, confusion_matrix, accuracy_score\n",
    "\n",
    "penguins = pd.read_csv('penguins.csv')\n",
    "penguins"
   ]
  },
  {
   "cell_type": "code",
   "execution_count": 2,
   "id": "5981b4b1-bf1b-46f3-9f58-c2fc5844198a",
   "metadata": {},
   "outputs": [
    {
     "name": "stdout",
     "output_type": "stream",
     "text": [
      "   CulmenLength  CulmenDepth  FlipperLength  BodyMass  Species\n",
      "0          39.1         18.7          181.0    3750.0        0\n",
      "1          39.5         17.4          186.0    3800.0        0\n",
      "2          40.3         18.0          195.0    3250.0        0\n",
      "3           NaN          NaN            NaN       NaN        0\n",
      "4          36.7         19.3          193.0    3450.0        0\n",
      "<class 'pandas.core.frame.DataFrame'>\n",
      "RangeIndex: 344 entries, 0 to 343\n",
      "Data columns (total 5 columns):\n",
      " #   Column         Non-Null Count  Dtype  \n",
      "---  ------         --------------  -----  \n",
      " 0   CulmenLength   342 non-null    float64\n",
      " 1   CulmenDepth    342 non-null    float64\n",
      " 2   FlipperLength  342 non-null    float64\n",
      " 3   BodyMass       342 non-null    float64\n",
      " 4   Species        344 non-null    int64  \n",
      "dtypes: float64(4), int64(1)\n",
      "memory usage: 13.6 KB\n",
      "None\n",
      "CulmenLength     2\n",
      "CulmenDepth      2\n",
      "FlipperLength    2\n",
      "BodyMass         2\n",
      "Species          0\n",
      "dtype: int64\n"
     ]
    }
   ],
   "source": [
    "print(penguins.head())\n",
    "\n",
    "print(penguins.info())\n",
    "\n",
    "print(penguins.isnull().sum())"
   ]
  },
  {
   "cell_type": "code",
   "execution_count": 4,
   "id": "a28f808e-64b9-42c9-bcbb-b7df10ded8e3",
   "metadata": {},
   "outputs": [
    {
     "name": "stdout",
     "output_type": "stream",
     "text": [
      "Species\n",
      "0    152\n",
      "1    124\n",
      "2     68\n",
      "Name: count, dtype: int64\n"
     ]
    },
    {
     "data": {
      "image/png": "[encoded data removed]",
      "text/plain": [
       "<Figure size 640x480 with 1 Axes>"
      ]
     },
     "metadata": {},
     "output_type": "display_data"
    }
   ],
   "source": [
    "print(penguins['Species'].value_counts())\n",
    "\n",
    "sns.countplot(data=penguins, x='Species')\n",
    "plt.title('Gatunki pingwinów')\n",
    "plt.show()"
   ]
  },
  {
   "cell_type": "code",
   "execution_count": 5,
   "id": "8c68c028-15c0-43aa-ac0c-ef0533badda2",
   "metadata": {},
   "outputs": [
    {
     "data": {
      "image/png": "[encoded data removed]",
      "text/plain": [
       "<Figure size 640x480 with 1 Axes>"
      ]
     },
     "metadata": {},
     "output_type": "display_data"
    },
    {
     "data": {
      "image/png": "[encoded data removed]",
      "text/plain": [
       "<Figure size 640x480 with 1 Axes>"
      ]
     },
     "metadata": {},
     "output_type": "display_data"
    }
   ],
   "source": [
    "sns.boxplot(data=penguins, x='Species', y='CulmenLength')\n",
    "plt.title('Długość dzioba w zależności od gatunku')\n",
    "plt.show()\n",
    "\n",
    "sns.boxplot(data=penguins, x='Species', y='BodyMass')\n",
    "plt.title('Masa ciała w zależności od gatunku')\n",
    "plt.show()\n"
   ]
  },
  {
   "cell_type": "code",
   "execution_count": 6,
   "id": "712124ee-7ef8-4f63-8052-b276fd56c097",
   "metadata": {},
   "outputs": [
    {
     "name": "stdout",
     "output_type": "stream",
     "text": [
      "Rozmiar zbioru treningowego: (273, 4)\n",
      "Rozmiar zbioru testowego: (69, 4)\n"
     ]
    }
   ],
   "source": [
    "penguins = penguins.dropna()\n",
    "\n",
    "from sklearn.preprocessing import LabelEncoder\n",
    "encoder = LabelEncoder()\n",
    "penguins.loc[:, 'Species'] = encoder.fit_transform(penguins['Species'])\n",
    "\n",
    "X = penguins.drop('Species', axis=1)\n",
    "y = penguins['Species']\n",
    "\n",
    "X_train, X_test, y_train, y_test = train_test_split(X, y, test_size=0.2, random_state=42)\n",
    "\n",
    "print(f'Rozmiar zbioru treningowego: {X_train.shape}')\n",
    "print(f'Rozmiar zbioru testowego: {X_test.shape}')"
   ]
  },
  {
   "cell_type": "code",
   "execution_count": 7,
   "id": "43d2924b-e252-43a9-9e59-637b8a35b39f",
   "metadata": {},
   "outputs": [],
   "source": [
    "binary_penguins = penguins[penguins['Species'].isin([0, 1])]\n",
    "\n",
    "X = binary_penguins.drop('Species', axis=1)\n",
    "y = binary_penguins['Species']\n",
    "\n",
    "X_train, X_test, y_train, y_test = train_test_split(X, y, test_size=0.2, random_state=42)"
   ]
  },
  {
   "cell_type": "markdown",
   "id": "e989b1b8-c1ac-4129-823e-1b3498fdc256",
   "metadata": {},
   "source": [
    "Trening modelu i ocena"
   ]
  },
  {
   "cell_type": "code",
   "execution_count": 8,
   "id": "e345329d-7f98-4ad4-9159-b25ae00f6e43",
   "metadata": {},
   "outputs": [
    {
     "data": {
      "image/png": "[encoded data removed]",
      "text/plain": [
       "<Figure size 640x480 with 2 Axes>"
      ]
     },
     "metadata": {},
     "output_type": "display_data"
    },
    {
     "name": "stdout",
     "output_type": "stream",
     "text": [
      "Dokładność modelu: 1.00\n"
     ]
    }
   ],
   "source": [
    "from sklearn.linear_model import LogisticRegression\n",
    "\n",
    "model = LogisticRegression(solver='lbfgs', max_iter=1000)  \n",
    "model.fit(X_train, y_train)\n",
    "\n",
    "y_pred = model.predict(X_test)\n",
    "\n",
    "cm = confusion_matrix(y_test, y_pred)\n",
    "sns.heatmap(cm, annot=True, fmt='d', cmap='Blues')\n",
    "plt.title('Macierz omyłek dla regresji logistycznej')\n",
    "plt.show()\n",
    "\n",
    "accuracy = accuracy_score(y_test, y_pred)\n",
    "print(f'Dokładność modelu: {accuracy:.2f}')"
   ]
  },
  {
   "cell_type": "markdown",
   "id": "25136287-67f8-422a-8dcd-3d96220511b5",
   "metadata": {},
   "source": [
    "Klasyfikatory"
   ]
  },
  {
   "cell_type": "code",
   "execution_count": 9,
   "id": "eb3dae11-34fd-46f9-a169-09885f00b13b",
   "metadata": {},
   "outputs": [
    {
     "name": "stdout",
     "output_type": "stream",
     "text": [
      "KNN - raport klasyfikacji:\n",
      "              precision    recall  f1-score   support\n",
      "\n",
      "           0       1.00      0.87      0.93        30\n",
      "           1       0.86      1.00      0.93        25\n",
      "\n",
      "    accuracy                           0.93        55\n",
      "   macro avg       0.93      0.93      0.93        55\n",
      "weighted avg       0.94      0.93      0.93        55\n",
      "\n"
     ]
    }
   ],
   "source": [
    "# KNN \n",
    "from sklearn.neighbors import KNeighborsClassifier\n",
    "\n",
    "knn = KNeighborsClassifier(n_neighbors=5)\n",
    "knn.fit(X_train, y_train)\n",
    "y_pred_knn = knn.predict(X_test)\n",
    "\n",
    "print('KNN - raport klasyfikacji:')\n",
    "print(classification_report(y_test, y_pred_knn))"
   ]
  },
  {
   "cell_type": "code",
   "execution_count": 10,
   "id": "bffb60b0-3526-43a4-a6ac-76b86493bd8b",
   "metadata": {},
   "outputs": [
    {
     "name": "stdout",
     "output_type": "stream",
     "text": [
      "Drzewo decyzyjne - raport klasyfikacji:\n",
      "              precision    recall  f1-score   support\n",
      "\n",
      "           0       1.00      1.00      1.00        30\n",
      "           1       1.00      1.00      1.00        25\n",
      "\n",
      "    accuracy                           1.00        55\n",
      "   macro avg       1.00      1.00      1.00        55\n",
      "weighted avg       1.00      1.00      1.00        55\n",
      "\n"
     ]
    }
   ],
   "source": [
    "# Drzewo decyzyjne\n",
    "from sklearn.tree import DecisionTreeClassifier\n",
    "\n",
    "tree = DecisionTreeClassifier()\n",
    "tree.fit(X_train, y_train)\n",
    "y_pred_tree = tree.predict(X_test)\n",
    "\n",
    "print('Drzewo decyzyjne - raport klasyfikacji:')\n",
    "print(classification_report(y_test, y_pred_tree))"
   ]
  },
  {
   "cell_type": "code",
   "execution_count": 11,
   "id": "1870fd1c-c927-4675-8b54-4a9bd08cbe24",
   "metadata": {},
   "outputs": [
    {
     "name": "stdout",
     "output_type": "stream",
     "text": [
      "Random Forest - raport klasyfikacji:\n",
      "              precision    recall  f1-score   support\n",
      "\n",
      "           0       1.00      1.00      1.00        30\n",
      "           1       1.00      1.00      1.00        25\n",
      "\n",
      "    accuracy                           1.00        55\n",
      "   macro avg       1.00      1.00      1.00        55\n",
      "weighted avg       1.00      1.00      1.00        55\n",
      "\n"
     ]
    }
   ],
   "source": [
    "# Random Forest \n",
    "from sklearn.ensemble import RandomForestClassifier\n",
    "\n",
    "forest = RandomForestClassifier(n_estimators=100)\n",
    "forest.fit(X_train, y_train)\n",
    "y_pred_forest = forest.predict(X_test)\n",
    "\n",
    "print('Random Forest - raport klasyfikacji:')\n",
    "print(classification_report(y_test, y_pred_forest))"
   ]
  },
  {
   "cell_type": "code",
   "execution_count": 12,
   "id": "dba66418-5f72-4a49-aa0a-e0dd32198c38",
   "metadata": {},
   "outputs": [
    {
     "name": "stdout",
     "output_type": "stream",
     "text": [
      "SVM - raport klasyfikacji:\n",
      "              precision    recall  f1-score   support\n",
      "\n",
      "           0       0.96      0.83      0.89        30\n",
      "           1       0.83      0.96      0.89        25\n",
      "\n",
      "    accuracy                           0.89        55\n",
      "   macro avg       0.89      0.90      0.89        55\n",
      "weighted avg       0.90      0.89      0.89        55\n",
      "\n"
     ]
    }
   ],
   "source": [
    "# SVM \n",
    "\n",
    "from sklearn.svm import SVC\n",
    "\n",
    "svm = SVC(probability=True)\n",
    "svm.fit(X_train, y_train)\n",
    "y_pred_svm = svm.predict(X_test)\n",
    "\n",
    "print('SVM - raport klasyfikacji:')\n",
    "print(classification_report(y_test, y_pred_svm))"
   ]
  },
  {
   "cell_type": "code",
   "execution_count": 13,
   "id": "e6672ec8-b94b-4034-abdf-547bdbf9f2ff",
   "metadata": {},
   "outputs": [
    {
     "data": {
      "image/png": "[encoded data removed]",
      "text/plain": [
       "<Figure size 640x480 with 1 Axes>"
      ]
     },
     "metadata": {},
     "output_type": "display_data"
    }
   ],
   "source": [
    "models = ['Logistic Regression', 'KNN', 'Decision Tree', 'Random Forest', 'SVM']\n",
    "accuracies = [\n",
    "    accuracy_score(y_test, y_pred),\n",
    "    accuracy_score(y_test, y_pred_knn),\n",
    "    accuracy_score(y_test, y_pred_tree),\n",
    "    accuracy_score(y_test, y_pred_forest),\n",
    "    accuracy_score(y_test, y_pred_svm)\n",
    "]\n",
    "\n",
    "plt.bar(models, accuracies, color='skyblue')\n",
    "plt.xlabel('Model')\n",
    "plt.ylabel('Accuracy')\n",
    "plt.title('Porównanie dokładności modeli')\n",
    "plt.show()"
   ]
  },
  {
   "cell_type": "code",
   "execution_count": 17,
   "id": "760e3850-e467-4390-b5dd-3bfe27babb60",
   "metadata": {},
   "outputs": [
    {
     "name": "stdout",
     "output_type": "stream",
     "text": [
      "Logistic Regression - raport klasyfikacji:\n",
      "              precision    recall  f1-score   support\n",
      "\n",
      "           0       1.00      1.00      1.00        30\n",
      "           1       1.00      1.00      1.00        25\n",
      "\n",
      "    accuracy                           1.00        55\n",
      "   macro avg       1.00      1.00      1.00        55\n",
      "weighted avg       1.00      1.00      1.00        55\n",
      "\n",
      "KNN - raport klasyfikacji:\n",
      "              precision    recall  f1-score   support\n",
      "\n",
      "           0       1.00      0.87      0.93        30\n",
      "           1       0.86      1.00      0.93        25\n",
      "\n",
      "    accuracy                           0.93        55\n",
      "   macro avg       0.93      0.93      0.93        55\n",
      "weighted avg       0.94      0.93      0.93        55\n",
      "\n",
      "Drzewo decyzyjne - raport klasyfikacji:\n",
      "              precision    recall  f1-score   support\n",
      "\n",
      "           0       1.00      1.00      1.00        30\n",
      "           1       1.00      1.00      1.00        25\n",
      "\n",
      "    accuracy                           1.00        55\n",
      "   macro avg       1.00      1.00      1.00        55\n",
      "weighted avg       1.00      1.00      1.00        55\n",
      "\n",
      "Random Forest - raport klasyfikacji:\n",
      "              precision    recall  f1-score   support\n",
      "\n",
      "           0       1.00      1.00      1.00        30\n",
      "           1       1.00      1.00      1.00        25\n",
      "\n",
      "    accuracy                           1.00        55\n",
      "   macro avg       1.00      1.00      1.00        55\n",
      "weighted avg       1.00      1.00      1.00        55\n",
      "\n",
      "SVM - raport klasyfikacji:\n",
      "              precision    recall  f1-score   support\n",
      "\n",
      "           0       0.96      0.83      0.89        30\n",
      "           1       0.83      0.96      0.89        25\n",
      "\n",
      "    accuracy                           0.89        55\n",
      "   macro avg       0.89      0.90      0.89        55\n",
      "weighted avg       0.90      0.89      0.89        55\n",
      "\n",
      "Logistic Regression Analysis:\n",
      "Accuracy: 1.00\n",
      "Precision: 1.00\n",
      "Recall: 1.00\n",
      "F1-score: 1.00\n",
      "\n",
      "KNN Analysis:\n",
      "Accuracy: 0.93\n",
      "Precision: 0.94\n",
      "Recall: 0.93\n",
      "F1-score: 0.93\n",
      "\n",
      "Decision Tree Analysis:\n",
      "Accuracy: 1.00\n",
      "Precision: 1.00\n",
      "Recall: 1.00\n",
      "F1-score: 1.00\n",
      "\n",
      "Random Forest Analysis:\n",
      "Accuracy: 1.00\n",
      "Precision: 1.00\n",
      "Recall: 1.00\n",
      "F1-score: 1.00\n",
      "\n",
      "SVM Analysis:\n",
      "Accuracy: 0.89\n",
      "Precision: 0.90\n",
      "Recall: 0.89\n",
      "F1-score: 0.89\n"
     ]
    }
   ],
   "source": [
    "print('Logistic Regression - raport klasyfikacji:')\n",
    "print(classification_report(y_test, y_pred))\n",
    "\n",
    "print('KNN - raport klasyfikacji:')\n",
    "print(classification_report(y_test, y_pred_knn))\n",
    "\n",
    "print('Drzewo decyzyjne - raport klasyfikacji:')\n",
    "print(classification_report(y_test, y_pred_tree))\n",
    "\n",
    "print('Random Forest - raport klasyfikacji:')\n",
    "print(classification_report(y_test, y_pred_forest))\n",
    "\n",
    "print('SVM - raport klasyfikacji:')\n",
    "print(classification_report(y_test, y_pred_svm))\n",
    "\n",
    "print(\"Logistic Regression Analysis:\")\n",
    "print(f\"Accuracy: {accuracy_score(y_test, y_pred):.2f}\")\n",
    "print(f\"Precision: {classification_report(y_test, y_pred, output_dict=True)['weighted avg']['precision']:.2f}\")\n",
    "print(f\"Recall: {classification_report(y_test, y_pred, output_dict=True)['weighted avg']['recall']:.2f}\")\n",
    "print(f\"F1-score: {classification_report(y_test, y_pred, output_dict=True)['weighted avg']['f1-score']:.2f}\")\n",
    "\n",
    "print(\"\\nKNN Analysis:\")\n",
    "print(f\"Accuracy: {accuracy_score(y_test, y_pred_knn):.2f}\")\n",
    "print(f\"Precision: {classification_report(y_test, y_pred_knn, output_dict=True)['weighted avg']['precision']:.2f}\")\n",
    "print(f\"Recall: {classification_report(y_test, y_pred_knn, output_dict=True)['weighted avg']['recall']:.2f}\")\n",
    "print(f\"F1-score: {classification_report(y_test, y_pred_knn, output_dict=True)['weighted avg']['f1-score']:.2f}\")\n",
    "\n",
    "print(\"\\nDecision Tree Analysis:\")\n",
    "print(f\"Accuracy: {accuracy_score(y_test, y_pred_tree):.2f}\")\n",
    "print(f\"Precision: {classification_report(y_test, y_pred_tree, output_dict=True)['weighted avg']['precision']:.2f}\")\n",
    "print(f\"Recall: {classification_report(y_test, y_pred_tree, output_dict=True)['weighted avg']['recall']:.2f}\")\n",
    "print(f\"F1-score: {classification_report(y_test, y_pred_tree, output_dict=True)['weighted avg']['f1-score']:.2f}\")\n",
    "\n",
    "print(\"\\nRandom Forest Analysis:\")\n",
    "print(f\"Accuracy: {accuracy_score(y_test, y_pred_forest):.2f}\")\n",
    "print(f\"Precision: {classification_report(y_test, y_pred_forest, output_dict=True)['weighted avg']['precision']:.2f}\")\n",
    "print(f\"Recall: {classification_report(y_test, y_pred_forest, output_dict=True)['weighted avg']['recall']:.2f}\")\n",
    "print(f\"F1-score: {classification_report(y_test, y_pred_forest, output_dict=True)['weighted avg']['f1-score']:.2f}\")\n",
    "\n",
    "# SVM\n",
    "print(\"\\nSVM Analysis:\")\n",
    "print(f\"Accuracy: {accuracy_score(y_test, y_pred_svm):.2f}\")\n",
    "print(f\"Precision: {classification_report(y_test, y_pred_svm, output_dict=True)['weighted avg']['precision']:.2f}\")\n",
    "print(f\"Recall: {classification_report(y_test, y_pred_svm, output_dict=True)['weighted avg']['recall']:.2f}\")\n",
    "print(f\"F1-score: {classification_report(y_test, y_pred_svm, output_dict=True)['weighted avg']['f1-score']:.2f}\")"
   ]
  },
  {
   "cell_type": "markdown",
   "id": "5830a8b9-69aa-4890-ad5e-4e0c19855c10",
   "metadata": {},
   "source": [
    "Analizując wyniki klasyfikacji dla różnych modeli, możemy zauważyć znaczące różnice w ich dokładności i wynikach miar oceny klasyfikacji. Przyjrzymy się szczegółowo każdemu modelowi:\n",
    "\n",
    "1. Logistic Regression\n",
    "Dokładność: 1.00\n",
    "\n",
    "Precyzja: 1.00\n",
    "\n",
    "Recall: 1.00\n",
    "\n",
    "F1-score: 1.00\n",
    "\n",
    "Model regresji logistycznej osiągnął perfekcyjne wyniki, uzyskując dokładność, precyzję, recall i F1-score na poziomie 1.00 dla obu klas. Oznacza to, że model prawidłowo klasyfikował wszystkie przypadki, bez żadnych błędów klasyfikacyjnych. Jest to wynik bardzo pozytywny, który wskazuje na bardzo dobrą dopasowanie modelu do danych.\n",
    "\n",
    "2. K-Nearest Neighbors (KNN)\n",
    "Dokładność: 0.93\n",
    "\n",
    "Precyzja: 0.94\n",
    "\n",
    "Recall: 0.93\n",
    "\n",
    "F1-score: 0.93\n",
    "\n",
    "Model KNN osiągnął nieco gorsze wyniki niż regresja logistyczna, ale nadal jest to bardzo dobry rezultat. Zauważalna różnica polega na tym, że recall dla klasy 0 jest nieco niższy (0.87), co sugeruje, że model miał pewne trudności z identyfikowaniem tej klasy, mimo wysokiej precyzji. Dla klasy 1 recall jest idealny (1.00), co oznacza, że model dobrze identyfikuje przypadki tej klasy.\n",
    "\n",
    "3. Decision Tree\n",
    "Dokładność: 1.00\n",
    "\n",
    "Precyzja: 1.00\n",
    "\n",
    "Recall: 1.00\n",
    "\n",
    "F1-score: 1.00\n",
    "\n",
    "Drzewo decyzyjne uzyskało wyniki takie same jak regresja logistyczna, czyli perfekcyjne. Wszystkie miary są równe 1.00, co oznacza, że drzewo decyzyjne również bardzo dobrze dopasowało się do danych. Model ten skutecznie klasyfikuje wszystkie przypadki bez pomyłek, co sugeruje, że dane są łatwe do rozróżnienia za pomocą tej metody.\n",
    "\n",
    "4. Random Forest\n",
    "Dokładność: 1.00\n",
    "\n",
    "Precyzja: 1.00\n",
    "\n",
    "Recall: 1.00\n",
    "\n",
    "F1-score: 1.00\n",
    "\n",
    "Model Random Forest również osiągnął perfekcyjne wyniki, z dokładnością, precyzją, recall i F1-score na poziomie 1.00 dla obu klas. Random Forest to model zespołowy, który łączy wyniki wielu drzew decyzyjnych, co sprawia, że jest bardziej odporny na overfitting, co w tym przypadku pozwoliło na osiągnięcie doskonałych wyników.\n",
    "\n",
    "5. Support Vector Machine (SVM)\n",
    "Dokładność: 0.89\n",
    "\n",
    "Precyzja: 0.90\n",
    "\n",
    "Recall: 0.89\n",
    "\n",
    "F1-score: 0.89\n",
    "\n",
    "Model SVM osiągnął nieco gorsze wyniki w porównaniu do innych modeli, z dokładnością wynoszącą 0.89. Zauważalna różnica występuje w precyzji i recall dla klasy 0, które są nieco niższe niż w przypadku innych modeli. Mimo to, wyniki te są nadal bardzo dobre, co świadczy o tym, że model SVM dobrze radzi sobie z klasyfikacją, choć nie jest aż tak perfekcyjny jak regresja logistyczna, drzewo decyzyjne czy Random Forest.\n",
    "\n",
    "Podsumowanie:\n",
    "Logistic Regression, Decision Tree, i Random Forest wykazały się doskonałymi wynikami, osiągając 100% dokładności, precyzji, recall i F1-score, co wskazuje na bardzo dobrą jakość klasyfikacji.\n",
    "\n",
    "KNN uzyskał wyniki na poziomie 93%, z nieco niższą skutecznością w klasyfikacji klasy 0, ale nadal osiągając bardzo dobre rezultaty.\n",
    "\n",
    "SVM osiągnął najniższą dokładność (0.89), jednak nadal pozostaje bardzo solidnym modelem klasyfikacyjnym, choć z pewnymi trudnościami przy identyfikacji klasy 0.\n",
    "\n",
    "W kontekście tego zadania, Logistic Regression, Decision Tree, i Random Forest są najbardziej odpowiednie, ze względu na ich doskonałą skuteczność. Jeśli zależy Ci na stabilności modelu i odporności na overfitting, warto rozważyć Random Forest jako najlepszy wybór. SVM może wymagać dalszej finezji w dostosowywaniu parametrów, aby uzyskać lepsze wyniki."
   ]
  },
  {
   "cell_type": "code",
   "execution_count": null,
   "id": "910c2d71-4304-437a-9806-5196f237c31f",
   "metadata": {},
   "outputs": [],
   "source": []
  }
 ],
 "metadata": {
  "kernelspec": {
   "display_name": "Python 3 (ipykernel)",
   "language": "python",
   "name": "python3"
  },
  "language_info": {
   "codemirror_mode": {
    "name": "ipython",
    "version": 3
   },
   "file_extension": ".py",
   "mimetype": "text/x-python",
   "name": "python",
   "nbconvert_exporter": "python",
   "pygments_lexer": "ipython3",
   "version": "3.12.8"
  }
 },
 "nbformat": 4,
 "nbformat_minor": 5
}
