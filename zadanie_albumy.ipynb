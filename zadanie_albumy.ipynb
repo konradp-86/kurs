{
 "cells": [
  {
   "cell_type": "markdown",
   "id": "43f50140-a0ce-475e-95b2-63280e7159a8",
   "metadata": {},
   "source": [
    "#  **Rozwiązanie Zadania: Albumy Wszechczasów**"
   ]
  },
  {
   "cell_type": "markdown",
   "id": "cc08ff82-0479-4035-b91b-3cd3a9f9c015",
   "metadata": {},
   "source": [
    "## Importowanie biblotek i pobieranie danych ze strony internetowej"
   ]
  },
  {
   "cell_type": "code",
   "execution_count": 3,
   "id": "b87c14e8-2f78-45fc-85c3-3995b5d4d21e",
   "metadata": {},
   "outputs": [
    {
     "name": "stdout",
     "output_type": "stream",
     "text": [
      "Tabela 'The best-selling albums of all time on the Official Chart'\n",
      "   POS                                 TITLE           ARTIST  YEAR  HIGH POSN\n",
      "0    1                         GREATEST HITS            QUEEN  1981          1\n",
      "1    2                  GOLD - GREATEST HITS             ABBA  1992          1\n",
      "2    3  SGT PEPPER'S LONELY HEARTS CLUB BAND          BEATLES  1967          1\n",
      "3    4                                    21            ADELE  2011          1\n",
      "4    5        WHAT'S THE STORY MORNING GLORY            OASIS  1995          1\n",
      "5    6                              THRILLER  MICHAEL JACKSON  1982          1\n",
      "6    7             THE DARK SIDE OF THE MOON       PINK FLOYD  1973          2\n",
      "7    8                      BROTHERS IN ARMS     DIRE STRAITS  1985          1\n",
      "8    9                                   BAD  MICHAEL JACKSON  1987          1\n",
      "9   10                      GREATEST HITS II            QUEEN  1991          1\n"
     ]
    }
   ],
   "source": [
    "import pandas as pd\n",
    "\n",
    "url = 'https://www.officialcharts.com/chart-news/the-best-selling-albums-of-all-time-on-the-official-uk-chart__15551/'\n",
    "\n",
    "tabele = pd.read_html(url, header=0)\n",
    "\n",
    "for tabela in tabele:\n",
    "    if 'TITLE' in tabela.columns:\n",
    "        df = tabela\n",
    "        print(\"Tabela 'The best-selling albums of all time on the Official Chart'\")\n",
    "        print(df.head(10))\n",
    "        break"
   ]
  },
  {
   "cell_type": "markdown",
   "id": "a9070266-dcef-4651-9c40-a18027dea9e5",
   "metadata": {},
   "source": [
    "## Zmiana nazw kolumn na polskie odpowiedniki oraz prezentacja tabeli"
   ]
  },
  {
   "cell_type": "code",
   "execution_count": 19,
   "id": "e56456e9",
   "metadata": {},
   "outputs": [
    {
     "data": {
      "text/html": [
       "<div>\n",
       "<style scoped>\n",
       "    .dataframe tbody tr th:only-of-type {\n",
       "        vertical-align: middle;\n",
       "    }\n",
       "\n",
       "    .dataframe tbody tr th {\n",
       "        vertical-align: top;\n",
       "    }\n",
       "\n",
       "    .dataframe thead th {\n",
       "        text-align: right;\n",
       "    }\n",
       "</style>\n",
       "<table border=\"1\" class=\"dataframe\">\n",
       "  <thead>\n",
       "    <tr style=\"text-align: right;\">\n",
       "      <th></th>\n",
       "      <th>Pozycja</th>\n",
       "      <th>Tytuł</th>\n",
       "      <th>Artysta</th>\n",
       "      <th>Rok</th>\n",
       "      <th>Max poz</th>\n",
       "    </tr>\n",
       "  </thead>\n",
       "  <tbody>\n",
       "    <tr>\n",
       "      <th>0</th>\n",
       "      <td>1</td>\n",
       "      <td>GREATEST HITS</td>\n",
       "      <td>QUEEN</td>\n",
       "      <td>1981</td>\n",
       "      <td>1</td>\n",
       "    </tr>\n",
       "    <tr>\n",
       "      <th>1</th>\n",
       "      <td>2</td>\n",
       "      <td>GOLD - GREATEST HITS</td>\n",
       "      <td>ABBA</td>\n",
       "      <td>1992</td>\n",
       "      <td>1</td>\n",
       "    </tr>\n",
       "    <tr>\n",
       "      <th>2</th>\n",
       "      <td>3</td>\n",
       "      <td>SGT PEPPER'S LONELY HEARTS CLUB BAND</td>\n",
       "      <td>BEATLES</td>\n",
       "      <td>1967</td>\n",
       "      <td>1</td>\n",
       "    </tr>\n",
       "    <tr>\n",
       "      <th>3</th>\n",
       "      <td>4</td>\n",
       "      <td>21</td>\n",
       "      <td>ADELE</td>\n",
       "      <td>2011</td>\n",
       "      <td>1</td>\n",
       "    </tr>\n",
       "    <tr>\n",
       "      <th>4</th>\n",
       "      <td>5</td>\n",
       "      <td>WHAT'S THE STORY MORNING GLORY</td>\n",
       "      <td>OASIS</td>\n",
       "      <td>1995</td>\n",
       "      <td>1</td>\n",
       "    </tr>\n",
       "    <tr>\n",
       "      <th>5</th>\n",
       "      <td>6</td>\n",
       "      <td>THRILLER</td>\n",
       "      <td>MICHAEL JACKSON</td>\n",
       "      <td>1982</td>\n",
       "      <td>1</td>\n",
       "    </tr>\n",
       "    <tr>\n",
       "      <th>6</th>\n",
       "      <td>7</td>\n",
       "      <td>THE DARK SIDE OF THE MOON</td>\n",
       "      <td>PINK FLOYD</td>\n",
       "      <td>1973</td>\n",
       "      <td>2</td>\n",
       "    </tr>\n",
       "    <tr>\n",
       "      <th>7</th>\n",
       "      <td>8</td>\n",
       "      <td>BROTHERS IN ARMS</td>\n",
       "      <td>DIRE STRAITS</td>\n",
       "      <td>1985</td>\n",
       "      <td>1</td>\n",
       "    </tr>\n",
       "    <tr>\n",
       "      <th>8</th>\n",
       "      <td>9</td>\n",
       "      <td>BAD</td>\n",
       "      <td>MICHAEL JACKSON</td>\n",
       "      <td>1987</td>\n",
       "      <td>1</td>\n",
       "    </tr>\n",
       "    <tr>\n",
       "      <th>9</th>\n",
       "      <td>10</td>\n",
       "      <td>GREATEST HITS II</td>\n",
       "      <td>QUEEN</td>\n",
       "      <td>1991</td>\n",
       "      <td>1</td>\n",
       "    </tr>\n",
       "  </tbody>\n",
       "</table>\n",
       "</div>"
      ],
      "text/plain": [
       "   Pozycja                                 Tytuł          Artysta   Rok  \\\n",
       "0        1                         GREATEST HITS            QUEEN  1981   \n",
       "1        2                  GOLD - GREATEST HITS             ABBA  1992   \n",
       "2        3  SGT PEPPER'S LONELY HEARTS CLUB BAND          BEATLES  1967   \n",
       "3        4                                    21            ADELE  2011   \n",
       "4        5        WHAT'S THE STORY MORNING GLORY            OASIS  1995   \n",
       "5        6                              THRILLER  MICHAEL JACKSON  1982   \n",
       "6        7             THE DARK SIDE OF THE MOON       PINK FLOYD  1973   \n",
       "7        8                      BROTHERS IN ARMS     DIRE STRAITS  1985   \n",
       "8        9                                   BAD  MICHAEL JACKSON  1987   \n",
       "9       10                      GREATEST HITS II            QUEEN  1991   \n",
       "\n",
       "   Max poz  \n",
       "0        1  \n",
       "1        1  \n",
       "2        1  \n",
       "3        1  \n",
       "4        1  \n",
       "5        1  \n",
       "6        2  \n",
       "7        1  \n",
       "8        1  \n",
       "9        1  "
      ]
     },
     "execution_count": 19,
     "metadata": {},
     "output_type": "execute_result"
    }
   ],
   "source": [
    "df.rename(columns={\n",
    "    'POS': 'POZYCJA',\n",
    "    'TITLE': 'TYTUŁ', \n",
    "    'ARTIST': 'ARTYSTA', \n",
    "    'YEAR': 'ROK', \n",
    "    'MAX POS': 'MAX POZ', \n",
    "    'HIGH POSN': 'MAX POZ'\n",
    "}, inplace=True)\n",
    "df.head(10)"
   ]
  },
  {
   "cell_type": "markdown",
   "id": "4462d85d-499c-4d17-b254-e58d7dba3d51",
   "metadata": {},
   "source": [
    "## Sprawdzamy ilu artystów jest na liście"
   ]
  },
  {
   "cell_type": "code",
   "execution_count": 10,
   "id": "f3b1bad8",
   "metadata": {},
   "outputs": [
    {
     "name": "stdout",
     "output_type": "stream",
     "text": [
      "Liczba unikalnych artystów: 47\n"
     ]
    }
   ],
   "source": [
    "unikalni_artysci = df['ARTYSTA'].nunique()\n",
    "print(f'Liczba unikalnych artystów: {unikalni_artysci}')"
   ]
  },
  {
   "cell_type": "markdown",
   "id": "2d52eee0-c999-41f7-b066-3aa1e9118127",
   "metadata": {},
   "source": [
    "## Sprawdzamy które zespoły występują najczęsciej"
   ]
  },
  {
   "cell_type": "code",
   "execution_count": 15,
   "id": "4534242d",
   "metadata": {},
   "outputs": [
    {
     "name": "stdout",
     "output_type": "stream",
     "text": [
      "Zespoły pojawiające się najczęściej na liście:\n",
      "ARTYSTA\n",
      "TAKE THAT              3\n",
      "COLDPLAY               3\n",
      "QUEEN                  2\n",
      "ADELE                  2\n",
      "MICHAEL JACKSON        2\n",
      "ABBA                   2\n",
      "BEATLES                2\n",
      "DIDO                   2\n",
      "ORIGINAL SOUNDTRACK    2\n",
      "FLEETWOOD MAC          2\n",
      "ROBBIE WILLIAMS        2\n",
      "Name: count, dtype: int64\n"
     ]
    }
   ],
   "source": [
    "najczesciej_zespoly = df['ARTYSTA'].value_counts()\n",
    "print('Zespoły pojawiające się najczęściej na liście:')\n",
    "print(najczesciej_zespoly[najczesciej_zespoly > 1])\n"
   ]
  },
  {
   "cell_type": "markdown",
   "id": "4a2c11bf-9154-4e3b-b59c-d767b62f8026",
   "metadata": {},
   "source": [
    "## Edytujemy nagłówki kolumn aby każda zaczynała się wielką literą"
   ]
  },
  {
   "cell_type": "code",
   "execution_count": 18,
   "id": "ec08de8b",
   "metadata": {},
   "outputs": [
    {
     "data": {
      "text/html": [
       "<div>\n",
       "<style scoped>\n",
       "    .dataframe tbody tr th:only-of-type {\n",
       "        vertical-align: middle;\n",
       "    }\n",
       "\n",
       "    .dataframe tbody tr th {\n",
       "        vertical-align: top;\n",
       "    }\n",
       "\n",
       "    .dataframe thead th {\n",
       "        text-align: right;\n",
       "    }\n",
       "</style>\n",
       "<table border=\"1\" class=\"dataframe\">\n",
       "  <thead>\n",
       "    <tr style=\"text-align: right;\">\n",
       "      <th></th>\n",
       "      <th>Pozycja</th>\n",
       "      <th>Tytuł</th>\n",
       "      <th>Artysta</th>\n",
       "      <th>Rok</th>\n",
       "      <th>Max poz</th>\n",
       "    </tr>\n",
       "  </thead>\n",
       "  <tbody>\n",
       "    <tr>\n",
       "      <th>0</th>\n",
       "      <td>1</td>\n",
       "      <td>GREATEST HITS</td>\n",
       "      <td>QUEEN</td>\n",
       "      <td>1981</td>\n",
       "      <td>1</td>\n",
       "    </tr>\n",
       "    <tr>\n",
       "      <th>1</th>\n",
       "      <td>2</td>\n",
       "      <td>GOLD - GREATEST HITS</td>\n",
       "      <td>ABBA</td>\n",
       "      <td>1992</td>\n",
       "      <td>1</td>\n",
       "    </tr>\n",
       "    <tr>\n",
       "      <th>2</th>\n",
       "      <td>3</td>\n",
       "      <td>SGT PEPPER'S LONELY HEARTS CLUB BAND</td>\n",
       "      <td>BEATLES</td>\n",
       "      <td>1967</td>\n",
       "      <td>1</td>\n",
       "    </tr>\n",
       "    <tr>\n",
       "      <th>3</th>\n",
       "      <td>4</td>\n",
       "      <td>21</td>\n",
       "      <td>ADELE</td>\n",
       "      <td>2011</td>\n",
       "      <td>1</td>\n",
       "    </tr>\n",
       "    <tr>\n",
       "      <th>4</th>\n",
       "      <td>5</td>\n",
       "      <td>WHAT'S THE STORY MORNING GLORY</td>\n",
       "      <td>OASIS</td>\n",
       "      <td>1995</td>\n",
       "      <td>1</td>\n",
       "    </tr>\n",
       "    <tr>\n",
       "      <th>5</th>\n",
       "      <td>6</td>\n",
       "      <td>THRILLER</td>\n",
       "      <td>MICHAEL JACKSON</td>\n",
       "      <td>1982</td>\n",
       "      <td>1</td>\n",
       "    </tr>\n",
       "    <tr>\n",
       "      <th>6</th>\n",
       "      <td>7</td>\n",
       "      <td>THE DARK SIDE OF THE MOON</td>\n",
       "      <td>PINK FLOYD</td>\n",
       "      <td>1973</td>\n",
       "      <td>2</td>\n",
       "    </tr>\n",
       "    <tr>\n",
       "      <th>7</th>\n",
       "      <td>8</td>\n",
       "      <td>BROTHERS IN ARMS</td>\n",
       "      <td>DIRE STRAITS</td>\n",
       "      <td>1985</td>\n",
       "      <td>1</td>\n",
       "    </tr>\n",
       "    <tr>\n",
       "      <th>8</th>\n",
       "      <td>9</td>\n",
       "      <td>BAD</td>\n",
       "      <td>MICHAEL JACKSON</td>\n",
       "      <td>1987</td>\n",
       "      <td>1</td>\n",
       "    </tr>\n",
       "    <tr>\n",
       "      <th>9</th>\n",
       "      <td>10</td>\n",
       "      <td>GREATEST HITS II</td>\n",
       "      <td>QUEEN</td>\n",
       "      <td>1991</td>\n",
       "      <td>1</td>\n",
       "    </tr>\n",
       "  </tbody>\n",
       "</table>\n",
       "</div>"
      ],
      "text/plain": [
       "   Pozycja                                 Tytuł          Artysta   Rok  \\\n",
       "0        1                         GREATEST HITS            QUEEN  1981   \n",
       "1        2                  GOLD - GREATEST HITS             ABBA  1992   \n",
       "2        3  SGT PEPPER'S LONELY HEARTS CLUB BAND          BEATLES  1967   \n",
       "3        4                                    21            ADELE  2011   \n",
       "4        5        WHAT'S THE STORY MORNING GLORY            OASIS  1995   \n",
       "5        6                              THRILLER  MICHAEL JACKSON  1982   \n",
       "6        7             THE DARK SIDE OF THE MOON       PINK FLOYD  1973   \n",
       "7        8                      BROTHERS IN ARMS     DIRE STRAITS  1985   \n",
       "8        9                                   BAD  MICHAEL JACKSON  1987   \n",
       "9       10                      GREATEST HITS II            QUEEN  1991   \n",
       "\n",
       "   Max poz  \n",
       "0        1  \n",
       "1        1  \n",
       "2        1  \n",
       "3        1  \n",
       "4        1  \n",
       "5        1  \n",
       "6        2  \n",
       "7        1  \n",
       "8        1  \n",
       "9        1  "
      ]
     },
     "execution_count": 18,
     "metadata": {},
     "output_type": "execute_result"
    }
   ],
   "source": [
    "df.columns = [col.capitalize() for col in df.columns]\n",
    "df.head(10)"
   ]
  },
  {
   "cell_type": "markdown",
   "id": "423dcc37-9a70-49e7-a3db-6d5bc77c230e",
   "metadata": {},
   "source": [
    "## Usuwamy z tabeli kolumne \"Max poz\""
   ]
  },
  {
   "cell_type": "code",
   "execution_count": 20,
   "id": "8e72bd09",
   "metadata": {},
   "outputs": [
    {
     "data": {
      "text/html": [
       "<div>\n",
       "<style scoped>\n",
       "    .dataframe tbody tr th:only-of-type {\n",
       "        vertical-align: middle;\n",
       "    }\n",
       "\n",
       "    .dataframe tbody tr th {\n",
       "        vertical-align: top;\n",
       "    }\n",
       "\n",
       "    .dataframe thead th {\n",
       "        text-align: right;\n",
       "    }\n",
       "</style>\n",
       "<table border=\"1\" class=\"dataframe\">\n",
       "  <thead>\n",
       "    <tr style=\"text-align: right;\">\n",
       "      <th></th>\n",
       "      <th>Pozycja</th>\n",
       "      <th>Tytuł</th>\n",
       "      <th>Artysta</th>\n",
       "      <th>Rok</th>\n",
       "    </tr>\n",
       "  </thead>\n",
       "  <tbody>\n",
       "    <tr>\n",
       "      <th>0</th>\n",
       "      <td>1</td>\n",
       "      <td>GREATEST HITS</td>\n",
       "      <td>QUEEN</td>\n",
       "      <td>1981</td>\n",
       "    </tr>\n",
       "    <tr>\n",
       "      <th>1</th>\n",
       "      <td>2</td>\n",
       "      <td>GOLD - GREATEST HITS</td>\n",
       "      <td>ABBA</td>\n",
       "      <td>1992</td>\n",
       "    </tr>\n",
       "    <tr>\n",
       "      <th>2</th>\n",
       "      <td>3</td>\n",
       "      <td>SGT PEPPER'S LONELY HEARTS CLUB BAND</td>\n",
       "      <td>BEATLES</td>\n",
       "      <td>1967</td>\n",
       "    </tr>\n",
       "    <tr>\n",
       "      <th>3</th>\n",
       "      <td>4</td>\n",
       "      <td>21</td>\n",
       "      <td>ADELE</td>\n",
       "      <td>2011</td>\n",
       "    </tr>\n",
       "    <tr>\n",
       "      <th>4</th>\n",
       "      <td>5</td>\n",
       "      <td>WHAT'S THE STORY MORNING GLORY</td>\n",
       "      <td>OASIS</td>\n",
       "      <td>1995</td>\n",
       "    </tr>\n",
       "    <tr>\n",
       "      <th>5</th>\n",
       "      <td>6</td>\n",
       "      <td>THRILLER</td>\n",
       "      <td>MICHAEL JACKSON</td>\n",
       "      <td>1982</td>\n",
       "    </tr>\n",
       "    <tr>\n",
       "      <th>6</th>\n",
       "      <td>7</td>\n",
       "      <td>THE DARK SIDE OF THE MOON</td>\n",
       "      <td>PINK FLOYD</td>\n",
       "      <td>1973</td>\n",
       "    </tr>\n",
       "    <tr>\n",
       "      <th>7</th>\n",
       "      <td>8</td>\n",
       "      <td>BROTHERS IN ARMS</td>\n",
       "      <td>DIRE STRAITS</td>\n",
       "      <td>1985</td>\n",
       "    </tr>\n",
       "    <tr>\n",
       "      <th>8</th>\n",
       "      <td>9</td>\n",
       "      <td>BAD</td>\n",
       "      <td>MICHAEL JACKSON</td>\n",
       "      <td>1987</td>\n",
       "    </tr>\n",
       "    <tr>\n",
       "      <th>9</th>\n",
       "      <td>10</td>\n",
       "      <td>GREATEST HITS II</td>\n",
       "      <td>QUEEN</td>\n",
       "      <td>1991</td>\n",
       "    </tr>\n",
       "  </tbody>\n",
       "</table>\n",
       "</div>"
      ],
      "text/plain": [
       "   Pozycja                                 Tytuł          Artysta   Rok\n",
       "0        1                         GREATEST HITS            QUEEN  1981\n",
       "1        2                  GOLD - GREATEST HITS             ABBA  1992\n",
       "2        3  SGT PEPPER'S LONELY HEARTS CLUB BAND          BEATLES  1967\n",
       "3        4                                    21            ADELE  2011\n",
       "4        5        WHAT'S THE STORY MORNING GLORY            OASIS  1995\n",
       "5        6                              THRILLER  MICHAEL JACKSON  1982\n",
       "6        7             THE DARK SIDE OF THE MOON       PINK FLOYD  1973\n",
       "7        8                      BROTHERS IN ARMS     DIRE STRAITS  1985\n",
       "8        9                                   BAD  MICHAEL JACKSON  1987\n",
       "9       10                      GREATEST HITS II            QUEEN  1991"
      ]
     },
     "execution_count": 20,
     "metadata": {},
     "output_type": "execute_result"
    }
   ],
   "source": [
    "df.drop(columns=['Max poz'], inplace=True)\n",
    "df.head(10)"
   ]
  },
  {
   "cell_type": "markdown",
   "id": "b27854dc-e237-4929-945c-d4485607eee2",
   "metadata": {},
   "source": [
    "## Sprawdzamy w którym roku wyszlo najwięcej Albumów Wszechczasów"
   ]
  },
  {
   "cell_type": "code",
   "execution_count": null,
   "id": "5621d7cd",
   "metadata": {},
   "outputs": [
    {
     "name": "stdout",
     "output_type": "stream",
     "text": [
      "Najwięcej albumów wydano w roku: 1987\n"
     ]
    }
   ],
   "source": [
    "rok_najwiecej_albumow = df['Rok'].value_counts().idxmax()\n",
    "print(f'Najwięcej albumów wydano w roku: {rok_najwiecej_albumow}')"
   ]
  },
  {
   "cell_type": "markdown",
   "id": "9b524efb-de92-442f-968d-b1a7aa6db391",
   "metadata": {},
   "source": [
    "## Sprawdzamy ile albumów zostało wydanych między rokiem 1960 a 1990 "
   ]
  },
  {
   "cell_type": "code",
   "execution_count": 23,
   "id": "652b348e",
   "metadata": {},
   "outputs": [
    {
     "name": "stdout",
     "output_type": "stream",
     "text": [
      "Liczba albumów wydanych między 1960 a 1990 rokiem: 22\n"
     ]
    }
   ],
   "source": [
    "albumy_1960_1990 = df[(df['Rok'] >= 1960) & (df['Rok'] <= 1990)]\n",
    "print(f'Liczba albumów wydanych między 1960 a 1990 rokiem: {len(albumy_1960_1990)}')"
   ]
  },
  {
   "cell_type": "markdown",
   "id": "c5dbdb5f-96b5-4c29-b7f2-3bcc63d26228",
   "metadata": {},
   "source": [
    "## Sprawdzamy w którym roku został wydany najmłodszy album"
   ]
  },
  {
   "cell_type": "code",
   "execution_count": 24,
   "id": "0ce1a51f",
   "metadata": {},
   "outputs": [
    {
     "name": "stdout",
     "output_type": "stream",
     "text": [
      "Najmłodszy album został wydany w roku: 2015\n"
     ]
    }
   ],
   "source": [
    "najmlodszy_album_rok = df['Rok'].max()\n",
    "print(f'Najmłodszy album został wydany w roku: {najmlodszy_album_rok}')"
   ]
  },
  {
   "cell_type": "markdown",
   "id": "280fe14b-fd73-467a-900e-7f8bafd1b46b",
   "metadata": {},
   "source": [
    "## Lista najwcześniej wydanych albumów każdego artysty, który znalazł się na liście."
   ]
  },
  {
   "cell_type": "code",
   "execution_count": 26,
   "id": "6e0ff7dc",
   "metadata": {},
   "outputs": [
    {
     "name": "stdout",
     "output_type": "stream",
     "text": [
      "Najwcześniej wydane albumy każdego artysty:\n",
      "                     Artysta                                   Tytuł   Rok\n",
      "51   ORIGINAL CAST RECORDING                      THE SOUND OF MUSIC  1965\n",
      "2                    BEATLES    SGT PEPPER'S LONELY HEARTS CLUB BAND  1967\n",
      "20         SIMON & GARFUNKEL              BRIDGE OVER TROUBLED WATER  1970\n",
      "6                 PINK FLOYD               THE DARK SIDE OF THE MOON  1973\n",
      "41             MIKE OLDFIELD                           TUBULAR BELLS  1973\n",
      "45                      ABBA                           GREATEST HITS  1975\n",
      "18                 MEAT LOAF                         BAT OUT OF HELL  1977\n",
      "10             FLEETWOOD MAC                                 RUMOURS  1977\n",
      "46       ORIGINAL SOUNDTRACK                                  GREASE  1977\n",
      "36                JEFF WAYNE                   THE WAR OF THE WORLDS  1978\n",
      "0                      QUEEN                           GREATEST HITS  1981\n",
      "5            MICHAEL JACKSON                                THRILLER  1982\n",
      "15  BOB MARLEY & THE WAILERS                                  LEGEND  1984\n",
      "7               DIRE STRAITS                        BROTHERS IN ARMS  1985\n",
      "50                PAUL SIMON                               GRACELAND  1986\n",
      "35                        U2                         THE JOSHUA TREE  1987\n",
      "43             TRACY CHAPMAN                           TRACY CHAPMAN  1988\n",
      "38              PHIL COLLINS                           BUT SERIOUSLY  1989\n",
      "11                   MADONNA               THE IMMACULATE COLLECTION  1990\n",
      "13                SIMPLY RED                                   STARS  1991\n",
      "59                       REM                AUTOMATIC FOR THE PEOPLE  1992\n",
      "40         ALANIS MORISSETTE                      JAGGED LITTLE PILL  1995\n",
      "4                      OASIS          WHAT'S THE STORY MORNING GLORY  1995\n",
      "28               SPICE GIRLS                                   SPICE  1996\n",
      "27                     CORRS                         TALK ON CORNERS  1997\n",
      "14              SHANIA TWAIN                            COME ON OVER  1997\n",
      "17                     VERVE                             URBAN HYMNS  1997\n",
      "47           ROBBIE WILLIAMS                 I'VE BEEN EXPECTING YOU  1998\n",
      "52            GEORGE MICHAEL        LADIES & GENTLEMEN - THE BEST OF  1998\n",
      "25                DAVID GRAY                            WHITE LADDER  1998\n",
      "42                    TRAVIS                             THE MAN WHO  1999\n",
      "54                    EMINEM                 THE MARSHALL MATHERS LP  2000\n",
      "24                      DIDO                                NO ANGEL  2000\n",
      "44                  COLDPLAY                              PARACHUTES  2000\n",
      "49               NORAH JONES                       COME AWAY WITH ME  2002\n",
      "37           SCISSOR SISTERS                         SCISSOR SISTERS  2004\n",
      "34                     KEANE                         HOPES AND FEARS  2004\n",
      "16               JAMES BLUNT                          BACK TO BEDLAM  2004\n",
      "58                 TAKE THAT  NEVER FORGET - THE ULTIMATE COLLECTION  2005\n",
      "12             AMY WINEHOUSE                           BACK TO BLACK  2006\n",
      "57               SNOW PATROL                               EYES OPEN  2006\n",
      "22               LEONA LEWIS                                  SPIRIT  2007\n",
      "32             KINGS OF LEON                       ONLY BY THE NIGHT  2008\n",
      "29                 LADY GAGA                                THE FAME  2008\n",
      "23             MICHAEL BUBLE                              CRAZY LOVE  2009\n",
      "3                      ADELE                                      21  2011\n",
      "48                ED SHEERAN                                       X  2014\n"
     ]
    }
   ],
   "source": [
    "najwczesniejsze_albumy = df.sort_values('Rok').drop_duplicates(subset='Artysta', keep='first')\n",
    "print('Najwcześniej wydane albumy każdego artysty:')\n",
    "print(najwczesniejsze_albumy[['Artysta', 'Tytuł', 'Rok']])"
   ]
  },
  {
   "cell_type": "markdown",
   "id": "58816c70-46cd-4e4f-8d74-24fc88d40a2f",
   "metadata": {},
   "source": [
    "## Zapisujemy listę do pliku .csv"
   ]
  },
  {
   "cell_type": "code",
   "execution_count": 27,
   "id": "972d8a3e",
   "metadata": {},
   "outputs": [],
   "source": [
    "najwczesniejsze_albumy.to_csv('najwczesniejsze_albumy.csv', index=False)"
   ]
  },
  {
   "cell_type": "code",
   "execution_count": null,
   "id": "b7957df0-1308-42ba-9ffb-66c12f4b9fa7",
   "metadata": {},
   "outputs": [],
   "source": []
  }
 ],
 "metadata": {
  "kernelspec": {
   "display_name": "Python 3 (ipykernel)",
   "language": "python",
   "name": "python3"
  },
  "language_info": {
   "codemirror_mode": {
    "name": "ipython",
    "version": 3
   },
   "file_extension": ".py",
   "mimetype": "text/x-python",
   "name": "python",
   "nbconvert_exporter": "python",
   "pygments_lexer": "ipython3",
   "version": "3.12.8"
  }
 },
 "nbformat": 4,
 "nbformat_minor": 5
}
